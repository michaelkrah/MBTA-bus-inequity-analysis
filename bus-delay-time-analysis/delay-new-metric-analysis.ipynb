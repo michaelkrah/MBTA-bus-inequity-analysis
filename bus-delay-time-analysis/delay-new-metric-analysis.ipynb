{
 "cells": [
  {
   "cell_type": "code",
   "execution_count": 4,
   "id": "4c0971db",
   "metadata": {},
   "outputs": [],
   "source": [
    "import numpy as np\n",
    "import matplotlib.pyplot as plt\n",
    "import pandas as pd\n",
    "\n"
   ]
  },
  {
   "cell_type": "code",
   "execution_count": 5,
   "id": "2bd1808b",
   "metadata": {},
   "outputs": [],
   "source": [
    "# Example file for testing / developing a quick understanding\n",
    "filename = \"../datasets/MBTA-Bus-Arrival-Departure-Times_2024-12.csv\"\n",
    "df = pd.read_csv(filename, low_memory=False)"
   ]
  },
  {
   "cell_type": "code",
   "execution_count": 6,
   "id": "c97cfeda",
   "metadata": {},
   "outputs": [],
   "source": [
    "# Calculate delay for each line\n",
    "df['time_difference'] = pd.to_datetime(df['actual']) - pd.to_datetime(df['scheduled'])\n",
    "df['delay_seconds'] = df['time_difference'].dt.total_seconds()\n",
    "df['delay_headway'] = df['headway'] - df['scheduled_headway']"
   ]
  },
  {
   "cell_type": "code",
   "execution_count": 7,
   "id": "7e0275bb",
   "metadata": {},
   "outputs": [],
   "source": [
    "filtered_df = df[(df['delay_seconds'] >= -1200) & (df['delay_seconds'] <= 1200)]"
   ]
  },
  {
   "cell_type": "code",
   "execution_count": 8,
   "id": "71d97f13",
   "metadata": {},
   "outputs": [],
   "source": [
    "df.to_csv(\"../datasets/MBTA-Bus-Arrival-Departure-Times_2024-12-processed.csv\", index=False)"
   ]
  }
 ],
 "metadata": {
  "kernelspec": {
   "display_name": "base",
   "language": "python",
   "name": "python3"
  },
  "language_info": {
   "codemirror_mode": {
    "name": "ipython",
    "version": 3
   },
   "file_extension": ".py",
   "mimetype": "text/x-python",
   "name": "python",
   "nbconvert_exporter": "python",
   "pygments_lexer": "ipython3",
   "version": "3.12.7"
  }
 },
 "nbformat": 4,
 "nbformat_minor": 5
}
