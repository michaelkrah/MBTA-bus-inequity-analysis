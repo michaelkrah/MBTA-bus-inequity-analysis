{
 "cells": [
  {
   "cell_type": "code",
   "execution_count": null,
   "metadata": {},
   "outputs": [],
   "source": [
    "import numpy as np\n",
    "import pandas as pd\n",
    "import matplotlib.pyplot as plt\n",
    "import csv\n",
    "\n",
    "\n",
    "bus_routes = {'2016': \"MBTA_Bus_Ridership_by_Trip_Season_Route_Line_and_Stop/MBTA_Bus_Ridership_by_Trip_Season_Route_Line_and_Stop_Fall_2016.csv\", \n",
    "              '2017': \"MBTA_Bus_Ridership_by_Trip_Season_Route_Line_and_Stop/MBTA_Bus_Ridership_by_Trip_Season_Route_Line_and_Stop_Fall_2017.csv\", \n",
    "              '2018': \"MBTA_Bus_Ridership_by_Trip_Season_Route_Line_and_Stop/MBTA_Bus_Ridership_by_Trip_Season_Route_Line_and_Stop_Fall_2018.csv\", \n",
    "              '2019': \"MBTA_Bus_Ridership_by_Trip_Season_Route_Line_and_Stop/MBTA_Bus_Ridership_by_Trip_Season_Route_Line_and_Stop_Fall_2019.csv\", \n",
    "              '2020': \"MBTA_Bus_Ridership_by_Trip_Season_Route_Line_and_Stop/MBTA_Bus_Ridership_by_Trip_Season_Route_Line_and_Stop_Fall_2020.csv\", \n",
    "              '2021': \"MBTA_Bus_Ridership_by_Trip_Season_Route_Line_and_Stop/MBTA_Bus_Ridership_by_Trip_Season_Route_Line_and_Stop_Fall_2021.csv\",\n",
    "              '2022': \"MBTA_Bus_Ridership_by_Trip_Season_Route_Line_and_Stop/MBTA_Bus_Ridership_by_Trip_Season_Route_Line_and_Stop_Fall_2022.csv\", \n",
    "              '2023': \"MBTA_Bus_Ridership_by_Trip_Season_Route_Line_and_Stop/MBTA_Bus_Ridership_by_Trip_Season_Route_Line_and_Stop_Fall_2023.csv\",\n",
    "              '2024': \"MBTA_Bus_Ridership_by_Trip_Season_Route_Line_and_Stop/MBTA_Bus_Ridership_by_Trip_Season_Route_Line_and_Stop_Fall_2024.csv\"}\n",
    "\n",
    "\n",
    "col = [\"season\",\"route_id\",\"route_variant\",\"direction_id\",\"trip_start_time\",\"day_type_id\",\"day_type_name\",\"stop_name\",\"stop_id\",\"stop_sequence\",\"boardings\",\"alightings\",\"load_\",\"sample_size\"\n",
    " ]\n"
   ]
  },
  {
   "cell_type": "markdown",
   "metadata": {},
   "source": [
    "Ridership Questions \n",
    "- []  Look at how bus ridership has changed over time (pre vs post covid), although we see systemwide decreases are there routes with higher ridership or less significant decreases?\n",
    "- []  Is data on overcrowding available, is it possible to get per-route levels of overcrowding, is it possible to get information over the course of day (rush hour vs. typical hours, week vs. weekend)?\n",
    "- []  Can we compare the decrease in bus ridership to public transportation (T or commuter rail)? How does the relative decrease compare to overall decrease?\n",
    "- []  What key bus routes are there (https://en.wikipedia.org/wiki/MBTA_key_bus_routes)? What percentage of overall ridership do they represent and are any underserved?"
   ]
  },
  {
   "cell_type": "code",
   "execution_count": null,
   "metadata": {},
   "outputs": [],
   "source": [
    "df = {}\n",
    "\n",
    "for x in bus_routes:\n",
    "    df[x] = pd.read_csv(bus_routes[x], low_memory=False )\n",
    "    \n",
    "pivot_dict = {}   \n",
    "\n",
    "for x in df:\n",
    "    pivot_dict[x] = df[x].pivot_table(index=(\"trip_start_time\", \"route_id\", \"stop_name\"), columns=\"day_type_name\", values=(\"boardings\", \"alightings\", \"load\"))\n"
   ]
  },
  {
   "cell_type": "markdown",
   "metadata": {},
   "source": [
    "Creating a hash table that stores all the data."
   ]
  },
  {
   "cell_type": "code",
   "execution_count": 53,
   "metadata": {},
   "outputs": [],
   "source": [
    "pivot_dict[\"2019\"].to_csv(\"2019_averages.csv\")"
   ]
  }
 ],
 "metadata": {
  "kernelspec": {
   "display_name": "Python 3",
   "language": "python",
   "name": "python3"
  },
  "language_info": {
   "codemirror_mode": {
    "name": "ipython",
    "version": 3
   },
   "file_extension": ".py",
   "mimetype": "text/x-python",
   "name": "python",
   "nbconvert_exporter": "python",
   "pygments_lexer": "ipython3",
   "version": "3.13.0"
  }
 },
 "nbformat": 4,
 "nbformat_minor": 2
}
